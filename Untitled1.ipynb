{
 "cells": [
  {
   "cell_type": "code",
   "execution_count": 1,
   "id": "f35ef1a5-989a-4730-a3c6-ae6f59731620",
   "metadata": {},
   "outputs": [
    {
     "name": "stderr",
     "output_type": "stream",
     "text": [
      "── \u001b[1mAttaching packages\u001b[22m ─────────────────────────────────────── tidyverse 1.3.1 ──\n",
      "\n",
      "\u001b[32m✔\u001b[39m \u001b[34mggplot2\u001b[39m 3.3.5     \u001b[32m✔\u001b[39m \u001b[34mpurrr  \u001b[39m 0.3.4\n",
      "\u001b[32m✔\u001b[39m \u001b[34mtibble \u001b[39m 3.1.6     \u001b[32m✔\u001b[39m \u001b[34mdplyr  \u001b[39m 1.0.8\n",
      "\u001b[32m✔\u001b[39m \u001b[34mtidyr  \u001b[39m 1.2.0     \u001b[32m✔\u001b[39m \u001b[34mstringr\u001b[39m 1.4.0\n",
      "\u001b[32m✔\u001b[39m \u001b[34mreadr  \u001b[39m 2.1.2     \u001b[32m✔\u001b[39m \u001b[34mforcats\u001b[39m 0.5.1\n",
      "\n",
      "── \u001b[1mConflicts\u001b[22m ────────────────────────────────────────── tidyverse_conflicts() ──\n",
      "\u001b[31m✖\u001b[39m \u001b[34mdplyr\u001b[39m::\u001b[32mfilter()\u001b[39m masks \u001b[34mstats\u001b[39m::filter()\n",
      "\u001b[31m✖\u001b[39m \u001b[34mdplyr\u001b[39m::\u001b[32mlag()\u001b[39m    masks \u001b[34mstats\u001b[39m::lag()\n",
      "\n",
      "Registered S3 method overwritten by 'tune':\n",
      "  method                   from   \n",
      "  required_pkgs.model_spec parsnip\n",
      "\n",
      "── \u001b[1mAttaching packages\u001b[22m ────────────────────────────────────── tidymodels 0.1.4 ──\n",
      "\n",
      "\u001b[32m✔\u001b[39m \u001b[34mbroom       \u001b[39m 0.7.12     \u001b[32m✔\u001b[39m \u001b[34mrsample     \u001b[39m 0.1.1 \n",
      "\u001b[32m✔\u001b[39m \u001b[34mdials       \u001b[39m 0.1.0      \u001b[32m✔\u001b[39m \u001b[34mtune        \u001b[39m 0.1.6 \n",
      "\u001b[32m✔\u001b[39m \u001b[34minfer       \u001b[39m 1.0.0      \u001b[32m✔\u001b[39m \u001b[34mworkflows   \u001b[39m 0.2.4 \n",
      "\u001b[32m✔\u001b[39m \u001b[34mmodeldata   \u001b[39m 0.1.1      \u001b[32m✔\u001b[39m \u001b[34mworkflowsets\u001b[39m 0.1.0 \n",
      "\u001b[32m✔\u001b[39m \u001b[34mparsnip     \u001b[39m 0.1.7      \u001b[32m✔\u001b[39m \u001b[34myardstick   \u001b[39m 0.0.9 \n",
      "\u001b[32m✔\u001b[39m \u001b[34mrecipes     \u001b[39m 0.2.0      \n",
      "\n",
      "── \u001b[1mConflicts\u001b[22m ───────────────────────────────────────── tidymodels_conflicts() ──\n",
      "\u001b[31m✖\u001b[39m \u001b[34mscales\u001b[39m::\u001b[32mdiscard()\u001b[39m masks \u001b[34mpurrr\u001b[39m::discard()\n",
      "\u001b[31m✖\u001b[39m \u001b[34mdplyr\u001b[39m::\u001b[32mfilter()\u001b[39m   masks \u001b[34mstats\u001b[39m::filter()\n",
      "\u001b[31m✖\u001b[39m \u001b[34mrecipes\u001b[39m::\u001b[32mfixed()\u001b[39m  masks \u001b[34mstringr\u001b[39m::fixed()\n",
      "\u001b[31m✖\u001b[39m \u001b[34mdplyr\u001b[39m::\u001b[32mlag()\u001b[39m      masks \u001b[34mstats\u001b[39m::lag()\n",
      "\u001b[31m✖\u001b[39m \u001b[34myardstick\u001b[39m::\u001b[32mspec()\u001b[39m masks \u001b[34mreadr\u001b[39m::spec()\n",
      "\u001b[31m✖\u001b[39m \u001b[34mrecipes\u001b[39m::\u001b[32mstep()\u001b[39m   masks \u001b[34mstats\u001b[39m::step()\n",
      "\u001b[34m•\u001b[39m Use \u001b[32mtidymodels_prefer()\u001b[39m to resolve common conflicts.\n",
      "\n"
     ]
    }
   ],
   "source": [
    "library(tidyverse)\n",
    "library(tidymodels)"
   ]
  },
  {
   "cell_type": "code",
   "execution_count": 2,
   "id": "26e98162-be6f-4696-b363-71c487c36874",
   "metadata": {},
   "outputs": [
    {
     "name": "stderr",
     "output_type": "stream",
     "text": [
      "\u001b[1mRows: \u001b[22m\u001b[34m2000\u001b[39m \u001b[1mColumns: \u001b[22m\u001b[34m21\u001b[39m\n",
      "\u001b[36m──\u001b[39m \u001b[1mColumn specification\u001b[22m \u001b[36m────────────────────────────────────────────────────────\u001b[39m\n",
      "\u001b[1mDelimiter:\u001b[22m \",\"\n",
      "\u001b[32mdbl\u001b[39m (21): battery_power, blue, clock_speed, dual_sim, fc, four_g, int_memory...\n",
      "\n",
      "\u001b[36mℹ\u001b[39m Use `spec()` to retrieve the full column specification for this data.\n",
      "\u001b[36mℹ\u001b[39m Specify the column types or set `show_col_types = FALSE` to quiet this message.\n"
     ]
    },
    {
     "name": "stdout",
     "output_type": "stream",
     "text": [
      "Rows: 2,000\n",
      "Columns: 21\n",
      "$ battery_power \u001b[3m\u001b[90m<dbl>\u001b[39m\u001b[23m 842, 1021, 563, 615, 1821, 1859, 1821, 1954, 1445, 509, …\n",
      "$ blue          \u001b[3m\u001b[90m<dbl>\u001b[39m\u001b[23m 0, 1, 1, 1, 1, 0, 0, 0, 1, 1, 1, 1, 0, 1, 0, 0, 0, 0, 1,…\n",
      "$ clock_speed   \u001b[3m\u001b[90m<dbl>\u001b[39m\u001b[23m 2.2, 0.5, 0.5, 2.5, 1.2, 0.5, 1.7, 0.5, 0.5, 0.6, 2.9, 2…\n",
      "$ dual_sim      \u001b[3m\u001b[90m<dbl>\u001b[39m\u001b[23m 0, 1, 1, 0, 0, 1, 0, 1, 0, 1, 1, 0, 0, 0, 0, 0, 0, 1, 1,…\n",
      "$ fc            \u001b[3m\u001b[90m<dbl>\u001b[39m\u001b[23m 1, 0, 2, 0, 13, 3, 4, 0, 0, 2, 0, 5, 2, 7, 13, 3, 1, 7, …\n",
      "$ four_g        \u001b[3m\u001b[90m<dbl>\u001b[39m\u001b[23m 0, 1, 1, 0, 1, 0, 1, 0, 0, 1, 0, 1, 0, 0, 1, 0, 1, 1, 0,…\n",
      "$ int_memory    \u001b[3m\u001b[90m<dbl>\u001b[39m\u001b[23m 7, 53, 41, 10, 44, 22, 10, 24, 53, 9, 9, 33, 33, 17, 52,…\n",
      "$ m_dep         \u001b[3m\u001b[90m<dbl>\u001b[39m\u001b[23m 0.6, 0.7, 0.9, 0.8, 0.6, 0.7, 0.8, 0.8, 0.7, 0.1, 0.1, 0…\n",
      "$ mobile_wt     \u001b[3m\u001b[90m<dbl>\u001b[39m\u001b[23m 188, 136, 145, 131, 141, 164, 139, 187, 174, 93, 182, 17…\n",
      "$ n_cores       \u001b[3m\u001b[90m<dbl>\u001b[39m\u001b[23m 2, 3, 5, 6, 2, 1, 8, 4, 7, 5, 5, 8, 4, 4, 1, 2, 8, 3, 5,…\n",
      "$ pc            \u001b[3m\u001b[90m<dbl>\u001b[39m\u001b[23m 2, 6, 6, 9, 14, 7, 10, 0, 14, 15, 1, 18, 17, 11, 17, 16,…\n",
      "$ px_height     \u001b[3m\u001b[90m<dbl>\u001b[39m\u001b[23m 20, 905, 1263, 1216, 1208, 1004, 381, 512, 386, 1137, 24…\n",
      "$ px_width      \u001b[3m\u001b[90m<dbl>\u001b[39m\u001b[23m 756, 1988, 1716, 1786, 1212, 1654, 1018, 1149, 836, 1224…\n",
      "$ ram           \u001b[3m\u001b[90m<dbl>\u001b[39m\u001b[23m 2549, 2631, 2603, 2769, 1411, 1067, 3220, 700, 1099, 513…\n",
      "$ sc_h          \u001b[3m\u001b[90m<dbl>\u001b[39m\u001b[23m 9, 17, 11, 16, 8, 17, 13, 16, 17, 19, 5, 14, 18, 7, 14, …\n",
      "$ sc_w          \u001b[3m\u001b[90m<dbl>\u001b[39m\u001b[23m 7, 3, 2, 8, 2, 1, 8, 3, 1, 10, 2, 9, 0, 1, 9, 15, 9, 2, …\n",
      "$ talk_time     \u001b[3m\u001b[90m<dbl>\u001b[39m\u001b[23m 19, 7, 9, 11, 15, 10, 18, 5, 20, 12, 7, 13, 2, 4, 3, 11,…\n",
      "$ three_g       \u001b[3m\u001b[90m<dbl>\u001b[39m\u001b[23m 0, 1, 1, 1, 1, 1, 1, 1, 1, 1, 0, 1, 1, 1, 1, 1, 1, 1, 1,…\n",
      "$ touch_screen  \u001b[3m\u001b[90m<dbl>\u001b[39m\u001b[23m 0, 1, 1, 0, 1, 0, 0, 1, 0, 0, 0, 1, 0, 0, 0, 1, 0, 1, 1,…\n",
      "$ wifi          \u001b[3m\u001b[90m<dbl>\u001b[39m\u001b[23m 1, 0, 0, 0, 0, 0, 1, 1, 0, 0, 0, 1, 0, 1, 1, 1, 1, 0, 0,…\n",
      "$ price_range   \u001b[3m\u001b[90m<dbl>\u001b[39m\u001b[23m 1, 2, 2, 2, 1, 1, 3, 0, 0, 0, 3, 3, 1, 2, 0, 0, 3, 3, 1,…\n"
     ]
    }
   ],
   "source": [
    "mobile <- read_csv(\"data/mobile.csv\")\n",
    "glimpse(mobile)"
   ]
  },
  {
   "cell_type": "code",
   "execution_count": null,
   "id": "553e3da5-3f4c-486b-8938-1cfa3a341387",
   "metadata": {},
   "outputs": [],
   "source": []
  }
 ],
 "metadata": {
  "kernelspec": {
   "display_name": "R",
   "language": "R",
   "name": "ir"
  },
  "language_info": {
   "codemirror_mode": "r",
   "file_extension": ".r",
   "mimetype": "text/x-r-source",
   "name": "R",
   "pygments_lexer": "r",
   "version": "4.1.2"
  }
 },
 "nbformat": 4,
 "nbformat_minor": 5
}
